{
 "cells": [
  {
   "cell_type": "code",
   "execution_count": 29,
   "metadata": {},
   "outputs": [
    {
     "name": "stdout",
     "output_type": "stream",
     "text": [
      "The autoreload extension is already loaded. To reload it, use:\n",
      "  %reload_ext autoreload\n"
     ]
    }
   ],
   "source": [
    "# -*- coding: utf-8 -*-\n",
    "import numpy as np\n",
    "from proj1_helpers import *\n",
    "from tools import *\n",
    "from implementations import *\n",
    "%load_ext autoreload\n",
    "%autoreload 2"
   ]
  },
  {
   "cell_type": "code",
   "execution_count": 27,
   "metadata": {},
   "outputs": [
    {
     "name": "stdout",
     "output_type": "stream",
     "text": [
      "Start loading data...\n",
      "\n"
     ]
    }
   ],
   "source": [
    "print('Start loading data...\\n')\n",
    "\n",
    "DATA_TRAIN_PATH = 'data/train.csv'\n",
    "DATA_TEST_PATH = 'data/test.csv'\n",
    "\n",
    "y, tx_train, ids_train = load_csv_data(DATA_TRAIN_PATH)\n",
    "_, tx_test, ids_test = load_csv_data(DATA_TEST_PATH)"
   ]
  },
  {
   "cell_type": "code",
   "execution_count": 34,
   "metadata": {},
   "outputs": [
    {
     "name": "stdout",
     "output_type": "stream",
     "text": [
      "Start training...\n",
      "\n",
      "Start generating prediction files...\n",
      "\n",
      "Finish!\n"
     ]
    }
   ],
   "source": [
    "# Generate empty output prediction matrix\n",
    "y_pred = np.zeros(tx_test.shape[0])\n",
    "\n",
    "# Split data into three subset by jet_no\n",
    "dict_jets_train = group_features_by_jet(tx_train)\n",
    "dict_jets_test = group_features_by_jet(tx_test)\n",
    "\n",
    "\n",
    "# Set individual parameter, lambda and polynomial degree for each subset\n",
    "lambdas = [0.0001, 0.0001, 0.0001]\n",
    "degrees =  [12, 13, 10]\n",
    "\n",
    "print('Start training...\\n')\n",
    "\n",
    "for index in range(len(dict_jets_train)):\n",
    "    x_train = tx_train[dict_jets_train[index]]\n",
    "    x_test = tx_test[dict_jets_test[index]]\n",
    "    y_train = y[dict_jets_train[index]]\n",
    "    \n",
    "#    y_train = (1+ y_train) / 2 \n",
    "    # data processing\n",
    "    x_train, x_test = process_data(x_train, x_test)\n",
    "#    x_train = build_polynomial_features(x_train, degrees[index])\n",
    "#    x_test = build_polynomial_features(x_test, degrees[index])\n",
    "    x_train = np.hstack((np.ones((x_train.shape[0], 1)), x_train))\n",
    "    x_test = np.hstack((np.ones((x_test.shape[0], 1)), x_test))\n",
    "\n",
    "    \n",
    "#    weight, loss_train = least_squares_gd(y_train, x_train, initial_w=None, max_iters=1000, gamma=0.01)\n",
    "#    weight, loss_train = least_squares_sgd(y_train, x_train, initial_w=None, max_iters=1000, gamma=0.01)\n",
    "#    weight, loss_train = least_squares(y_train, x_train)\n",
    "#    weight, loss_train = ridge_regression(y_train, x_train, lambdas[index])\n",
    "#    weight, loss_train =  logistic_regression(y_train, x_train, initial_w=None, max_iters=1000, gamma=0.01)\n",
    "    weight, loss_train =  regularized_logistic_regression(y_train, x_train, lambda_=lambdas[index], initial_w=None, max_iters=1000, gamma=0.01)\n",
    "    temp_test_pred = predict_labels(weight, x_test)\n",
    "\n",
    "    y_pred[dict_jets_test[index]] = temp_test_pred\n",
    "\n",
    "print('Start generating prediction files...\\n')\n",
    "\n",
    "OUTPUT_PATH = 'output_reg_logistic_regression.csv'\n",
    "create_csv_submission(ids_test, y_pred, OUTPUT_PATH)\n",
    "\n",
    "print('Finish!')"
   ]
  },
  {
   "cell_type": "code",
   "execution_count": null,
   "metadata": {
    "collapsed": true
   },
   "outputs": [],
   "source": []
  }
 ],
 "metadata": {
  "kernelspec": {
   "display_name": "Python 3",
   "language": "python",
   "name": "python3"
  },
  "language_info": {
   "codemirror_mode": {
    "name": "ipython",
    "version": 3
   },
   "file_extension": ".py",
   "mimetype": "text/x-python",
   "name": "python",
   "nbconvert_exporter": "python",
   "pygments_lexer": "ipython3",
   "version": "3.6.1"
  }
 },
 "nbformat": 4,
 "nbformat_minor": 2
}
