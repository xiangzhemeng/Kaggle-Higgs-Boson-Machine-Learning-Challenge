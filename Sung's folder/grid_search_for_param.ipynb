{
 "cells": [
  {
   "cell_type": "code",
   "execution_count": 1,
   "metadata": {
    "collapsed": true
   },
   "outputs": [],
   "source": [
    "import numpy as np\n",
    "from proj1_helpers import *\n",
    "from cross_validation import *\n",
    "from tools import *\n",
    "from implementations import *\n",
    "\n",
    "%load_ext autoreload\n",
    "%autoreload 2\n",
    "seed = 10"
   ]
  },
  {
   "cell_type": "code",
   "execution_count": 2,
   "metadata": {
    "collapsed": true
   },
   "outputs": [],
   "source": [
    "# Load data\n",
    "\n",
    "DATA_TRAIN_PATH = '/Users/sonychan/Desktop/EPFL/Course2017_Autum/Machine_Learning/project/project1/epfl-ml2017-project1-master/train.csv'\n",
    "DATA_TEST_PATH = '/Users/sonychan/Desktop/EPFL/Course2017_Autum/Machine_Learning/project/project1/epfl-ml2017-project1-master/test.csv'\n",
    "\n",
    "y, tx_train, ids_train = load_csv_data(DATA_TRAIN_PATH)\n",
    "_, tx_test, ids_test = load_csv_data(DATA_TEST_PATH)\n",
    "\n",
    "# Split data by jet_no\n",
    "dict_jets_train = group_features_by_jet(tx_train)\n",
    "dict_jets_test = group_features_by_jet(tx_test)"
   ]
  },
  {
   "cell_type": "code",
   "execution_count": 3,
   "metadata": {
    "collapsed": true
   },
   "outputs": [],
   "source": [
    "# Generate Test parameters\n",
    "\n",
    "def gen_para(lambdas, degree):\n",
    "    test_para = []\n",
    "    for la in lambdas:\n",
    "        for d in range(1, degree+1):\n",
    "            test_para.append((la,d))\n",
    "    return test_para\n",
    "\n",
    "\n",
    "test_para = gen_para([0.0001, 0.001, 0.01], 15)\n",
    "        "
   ]
  },
  {
   "cell_type": "code",
   "execution_count": 6,
   "metadata": {
    "collapsed": true
   },
   "outputs": [],
   "source": [
    "# Cross validation\n",
    "\n",
    "def cross_validation(y, x, k_indices, k, lambda_):\n",
    "    test_indice = k_indices[k]\n",
    "    train_indice = k_indices[~(np.arange(k_indices.shape[0]) == k)]\n",
    "    train_indice = train_indice.reshape(-1)\n",
    "\n",
    "    ty_test = y[test_indice]\n",
    "    ty_train = y[train_indice]\n",
    "    tx_test = x[test_indice]\n",
    "    tx_train = x[train_indice]\n",
    "    \n",
    "    ################# replace regression method here ##################\n",
    "    weight, loss_train = ridge_regression(ty_train, tx_train, lambda_)\n",
    "\n",
    "    y_train_pred = predict_labels(weight, tx_train)\n",
    "    y_test_pred = predict_labels(weight, tx_test)\n",
    "\n",
    "    accuracy_train = compute_accuracy(y_train_pred, ty_train)\n",
    "    accuracy_test = compute_accuracy(y_test_pred, ty_test)\n",
    "\n",
    "    return accuracy_train, accuracy_test"
   ]
  },
  {
   "cell_type": "code",
   "execution_count": 7,
   "metadata": {
    "collapsed": true
   },
   "outputs": [
    {
     "name": "stdout",
     "output_type": "stream",
     "text": [
      "Jet_no: 0, train_Avg_acc; 0.8442723451105996, test_Avg_acc: 0.8433690321289159, total_acc: 0.8438206886197577,  Var_acc: 4.426088373941631e-07 (lambda, degree): (0.0001,1)\n",
      "Jet_no: 0, train_Avg_acc; 0.8446201581423282, test_Avg_acc: 0.8434891402262036, total_acc: 0.8440546491842659,  Var_acc: 3.7657753453436884e-07 (lambda, degree): (0.0001,2)\n",
      "Jet_no: 0, train_Avg_acc; 0.8453282954659193, test_Avg_acc: 0.8442398158342508, total_acc: 0.844784055650085,  Var_acc: 3.412765213043906e-07 (lambda, degree): (0.0001,3)\n",
      "Jet_no: 0, train_Avg_acc; 0.8464192773496146, test_Avg_acc: 0.8454408968071265, total_acc: 0.8459300870783706,  Var_acc: 2.1786698409910936e-07 (lambda, degree): (0.0001,4)\n",
      "Jet_no: 0, train_Avg_acc; 0.8471574416975278, test_Avg_acc: 0.8459213291962767, total_acc: 0.8465393854469023,  Var_acc: 3.315089475834197e-07 (lambda, degree): (0.0001,5)\n",
      "Jet_no: 0, train_Avg_acc; 0.8482559303373035, test_Avg_acc: 0.8470023020718648, total_acc: 0.8476291162045841,  Var_acc: 3.030828035493083e-07 (lambda, degree): (0.0001,6)\n",
      "Jet_no: 0, train_Avg_acc; 0.8489090181163046, test_Avg_acc: 0.8479331398258433, total_acc: 0.848421078971074,  Var_acc: 3.944972755532029e-07 (lambda, degree): (0.0001,7)\n",
      "Jet_no: 0, train_Avg_acc; 0.8491167050345311, test_Avg_acc: 0.8479031128015213, total_acc: 0.8485099089180261,  Var_acc: 4.673032673655879e-07 (lambda, degree): (0.0001,8)\n",
      "Jet_no: 0, train_Avg_acc; 0.847184966469823, test_Avg_acc: 0.8458512661395255, total_acc: 0.8465181163046742,  Var_acc: 1.795639446535816e-05 (lambda, degree): (0.0001,9)\n",
      "Jet_no: 0, train_Avg_acc; 0.8494745270743669, test_Avg_acc: 0.8484335902312081, total_acc: 0.8489540586527875,  Var_acc: 2.540445744579321e-07 (lambda, degree): (0.0001,10)\n",
      "Jet_no: 0, train_Avg_acc; 0.8319562606345711, test_Avg_acc: 0.8311380242217996, total_acc: 0.8315471424281853,  Var_acc: 0.000766576754731346 (lambda, degree): (0.0001,11)\n",
      "Jet_no: 0, train_Avg_acc; 0.8421129016114502, test_Avg_acc: 0.8404764287859073, total_acc: 0.8412946651986788,  Var_acc: 0.00020575410322498113 (lambda, degree): (0.0001,12)\n",
      "Jet_no: 0, train_Avg_acc; 0.8345535982384146, test_Avg_acc: 0.8338304474026623, total_acc: 0.8341920228205384,  Var_acc: 0.0006642422480101983 (lambda, degree): (0.0001,13)\n",
      "Jet_no: 0, train_Avg_acc; 0.7907616855169654, test_Avg_acc: 0.790011009908918, total_acc: 0.7903863477129417,  Var_acc: 0.007358941321135573 (lambda, degree): (0.0001,14)\n",
      "Jet_no: 0, train_Avg_acc; 0.7026173556200581, test_Avg_acc: 0.7004804323891503, total_acc: 0.7015488940046042,  Var_acc: 0.0152839710428606 (lambda, degree): (0.0001,15)\n",
      "Jet_no: 0, train_Avg_acc; 0.8431313181863678, test_Avg_acc: 0.842328095285757, total_acc: 0.8427297067360624,  Var_acc: 2.820950425796472e-07 (lambda, degree): (0.001,1)\n",
      "Jet_no: 0, train_Avg_acc; 0.8434891402262036, test_Avg_acc: 0.8425583024722251, total_acc: 0.8430237213492143,  Var_acc: 3.572427475790079e-07 (lambda, degree): (0.001,2)\n",
      "Jet_no: 0, train_Avg_acc; 0.8445075568011211, test_Avg_acc: 0.8436392753478131, total_acc: 0.8440734160744672,  Var_acc: 2.8103062749470755e-07 (lambda, degree): (0.001,3)\n",
      "Jet_no: 0, train_Avg_acc; 0.845418376538885, test_Avg_acc: 0.844550095085577, total_acc: 0.844984235812231,  Var_acc: 1.9338543714464824e-07 (lambda, degree): (0.001,4)\n",
      "Jet_no: 0, train_Avg_acc; 0.8463917525773196, test_Avg_acc: 0.8455810229206285, total_acc: 0.8459863877489741,  Var_acc: 2.223124823951981e-07 (lambda, degree): (0.001,5)\n",
      "Jet_no: 0, train_Avg_acc; 0.847637874086678, test_Avg_acc: 0.8466920228205386, total_acc: 0.8471649484536083,  Var_acc: 4.705966928638412e-07 (lambda, degree): (0.001,6)\n",
      "Jet_no: 0, train_Avg_acc; 0.8484686217595836, test_Avg_acc: 0.8474527074366931, total_acc: 0.8479606645981383,  Var_acc: 5.127725752897797e-07 (lambda, degree): (0.001,7)\n",
      "Jet_no: 0, train_Avg_acc; 0.8485436893203884, test_Avg_acc: 0.8477329596636973, total_acc: 0.8481383244920428,  Var_acc: 4.3056216313829345e-07 (lambda, degree): (0.001,8)\n",
      "Jet_no: 0, train_Avg_acc; 0.849004103693324, test_Avg_acc: 0.8475527975177659, total_acc: 0.848278450605545,  Var_acc: 2.466562815151482e-07 (lambda, degree): (0.001,9)\n",
      "Jet_no: 0, train_Avg_acc; 0.8492393153838455, test_Avg_acc: 0.8479131218096286, total_acc: 0.848576218596737,  Var_acc: 1.4657621846649426e-07 (lambda, degree): (0.001,10)\n",
      "Jet_no: 0, train_Avg_acc; 0.8115854268841958, test_Avg_acc: 0.8116304674206786, total_acc: 0.8116079471524371,  Var_acc: 0.005341643168472285 (lambda, degree): (0.001,11)\n",
      "Jet_no: 0, train_Avg_acc; 0.8456360724652188, test_Avg_acc: 0.8440596536883195, total_acc: 0.8448478630767691,  Var_acc: 1.4744465595053915e-05 (lambda, degree): (0.001,12)\n",
      "Jet_no: 0, train_Avg_acc; 0.817315584025623, test_Avg_acc: 0.8161245120608548, total_acc: 0.8167200480432388,  Var_acc: 0.003823136586615273 (lambda, degree): (0.001,13)\n",
      "Jet_no: 0, train_Avg_acc; 0.8130067060354319, test_Avg_acc: 0.8116504854368932, total_acc: 0.8123285957361626,  Var_acc: 0.0008577367313496774 (lambda, degree): (0.001,14)\n",
      "Jet_no: 0, train_Avg_acc; 0.7691472325092583, test_Avg_acc: 0.7682314082674406, total_acc: 0.7686893203883495,  Var_acc: 0.002877471029601746 (lambda, degree): (0.001,15)\n",
      "Jet_no: 0, train_Avg_acc; 0.8410269242318087, test_Avg_acc: 0.8406165548994095, total_acc: 0.840821739565609,  Var_acc: 3.4027471887144044e-07 (lambda, degree): (0.01,1)\n",
      "Jet_no: 0, train_Avg_acc; 0.8413397057351617, test_Avg_acc: 0.840566509858873, total_acc: 0.8409531077970174,  Var_acc: 3.5830716266398506e-07 (lambda, degree): (0.01,2)\n",
      "Jet_no: 0, train_Avg_acc; 0.8432113902512259, test_Avg_acc: 0.8424782304073666, total_acc: 0.8428448103292963,  Var_acc: 2.1059139393004356e-07 (lambda, degree): (0.01,3)\n",
      "Jet_no: 0, train_Avg_acc; 0.8441497347612851, test_Avg_acc: 0.8435491942748474, total_acc: 0.8438494645180663,  Var_acc: 2.867909914839604e-07 (lambda, degree): (0.01,4)\n",
      "Jet_no: 0, train_Avg_acc; 0.8455585026523872, test_Avg_acc: 0.8446201581423279, total_acc: 0.8450893303973576,  Var_acc: 2.9781081824606243e-07 (lambda, degree): (0.01,5)\n",
      "Jet_no: 0, train_Avg_acc; 0.8466244620158143, test_Avg_acc: 0.8457311580422381, total_acc: 0.8461778100290263,  Var_acc: 4.6721560965273897e-07 (lambda, degree): (0.01,6)\n",
      "Jet_no: 0, train_Avg_acc; 0.847097387648884, test_Avg_acc: 0.8462616354719247, total_acc: 0.8466795115604043,  Var_acc: 4.678041685820599e-07 (lambda, degree): (0.01,7)\n",
      "Jet_no: 0, train_Avg_acc; 0.8472300070063057, test_Avg_acc: 0.8467220498448604, total_acc: 0.8469760284255831,  Var_acc: 5.073878872128224e-07 (lambda, degree): (0.01,8)\n",
      "Jet_no: 0, train_Avg_acc; 0.8479306375738164, test_Avg_acc: 0.8469622660394356, total_acc: 0.847446451806626,  Var_acc: 4.555446113092297e-07 (lambda, degree): (0.01,9)\n",
      "Jet_no: 0, train_Avg_acc; 0.8312231007907116, test_Avg_acc: 0.8309378440596538, total_acc: 0.8310804724251827,  Var_acc: 0.0002574297274914049 (lambda, degree): (0.01,10)\n",
      "Jet_no: 0, train_Avg_acc; 0.8168977079371433, test_Avg_acc: 0.8160444399959964, total_acc: 0.8164710739665699,  Var_acc: 0.0038450480970857945 (lambda, degree): (0.01,11)\n",
      "Jet_no: 0, train_Avg_acc; 0.8059203282954659, test_Avg_acc: 0.8058252427184465, total_acc: 0.8058727855069562,  Var_acc: 0.006821943259593226 (lambda, degree): (0.01,12)\n",
      "Jet_no: 0, train_Avg_acc; 0.7811830647582825, test_Avg_acc: 0.7795215694124712, total_acc: 0.7803523170853768,  Var_acc: 0.010246197268162904 (lambda, degree): (0.01,13)\n",
      "Jet_no: 0, train_Avg_acc; 0.8297993193874487, test_Avg_acc: 0.8277549794815334, total_acc: 0.8287771494344911,  Var_acc: 0.0004361272633108761 (lambda, degree): (0.01,14)\n",
      "Jet_no: 0, train_Avg_acc; 0.7973901511360224, test_Avg_acc: 0.7966870183164848, total_acc: 0.7970385847262536,  Var_acc: 0.005831684959261849 (lambda, degree): (0.01,15)\n",
      "Jet_no: 1, train_Avg_acc; 0.790437193706474, test_Avg_acc: 0.7882770183131287, total_acc: 0.7893571060098014,  Var_acc: 5.678424089101963e-07 (lambda, degree): (0.0001,1)\n",
      "Jet_no: 1, train_Avg_acc; 0.8037142120196027, test_Avg_acc: 0.8015991746195512, total_acc: 0.8026566933195769,  Var_acc: 5.911690000132268e-07 (lambda, degree): (0.0001,2)\n",
      "Jet_no: 1, train_Avg_acc; 0.8057679907144699, test_Avg_acc: 0.8029791075573897, total_acc: 0.8043735491359298,  Var_acc: 3.81458372155544e-07 (lambda, degree): (0.0001,3)\n"
     ]
    },
    {
     "name": "stdout",
     "output_type": "stream",
     "text": [
      "Jet_no: 1, train_Avg_acc; 0.8086245808614908, test_Avg_acc: 0.8064740778952799, total_acc: 0.8075493293783853,  Var_acc: 3.322895771834427e-07 (lambda, degree): (0.0001,4)\n",
      "Jet_no: 1, train_Avg_acc; 0.8096530822801136, test_Avg_acc: 0.8076863554294557, total_acc: 0.8086697188547847,  Var_acc: 3.3852663362814853e-07 (lambda, degree): (0.0001,5)\n",
      "Jet_no: 1, train_Avg_acc; 0.8132737941707505, test_Avg_acc: 0.810729945834408, total_acc: 0.8120018700025793,  Var_acc: 2.222471113114435e-07 (lambda, degree): (0.0001,6)\n",
      "Jet_no: 1, train_Avg_acc; 0.81513412432293, test_Avg_acc: 0.8123033273149343, total_acc: 0.8137187258189321,  Var_acc: 4.710640830771928e-07 (lambda, degree): (0.0001,7)\n",
      "Jet_no: 1, train_Avg_acc; 0.8160207634769151, test_Avg_acc: 0.8132447768893474, total_acc: 0.8146327701831313,  Var_acc: 4.884238901815011e-07 (lambda, degree): (0.0001,8)\n",
      "Jet_no: 1, train_Avg_acc; 0.8170202476141346, test_Avg_acc: 0.8140959504771731, total_acc: 0.8155580990456539,  Var_acc: 5.316674815311619e-07 (lambda, degree): (0.0001,9)\n",
      "Jet_no: 1, train_Avg_acc; 0.8175457828217695, test_Avg_acc: 0.8151792623162238, total_acc: 0.8163625225689967,  Var_acc: 2.6528280077963157e-07 (lambda, degree): (0.0001,10)\n",
      "Jet_no: 1, train_Avg_acc; 0.8176231622388445, test_Avg_acc: 0.8148052618003611, total_acc: 0.8162142120196028,  Var_acc: 6.095059459605666e-07 (lambda, degree): (0.0001,11)\n",
      "Jet_no: 1, train_Avg_acc; 0.8174297136961568, test_Avg_acc: 0.8152050554552488, total_acc: 0.8163173845757028,  Var_acc: 8.688635431177059e-07 (lambda, degree): (0.0001,12)\n",
      "Jet_no: 1, train_Avg_acc; 0.8180326283208667, test_Avg_acc: 0.8155145731235491, total_acc: 0.816773600722208,  Var_acc: 3.4463894894388385e-07 (lambda, degree): (0.0001,13)\n",
      "Jet_no: 1, train_Avg_acc; 0.8172136961568223, test_Avg_acc: 0.8146376063966987, total_acc: 0.8159256512767605,  Var_acc: 1.904131752179052e-06 (lambda, degree): (0.0001,14)\n",
      "Jet_no: 1, train_Avg_acc; 0.8099851689450606, test_Avg_acc: 0.8066546298684549, total_acc: 0.8083198994067577,  Var_acc: 0.00015417774839135504 (lambda, degree): (0.0001,15)\n",
      "Jet_no: 1, train_Avg_acc; 0.7885478462728914, test_Avg_acc: 0.7868583956667526, total_acc: 0.787703120969822,  Var_acc: 7.899647790927516e-07 (lambda, degree): (0.001,1)\n",
      "Jet_no: 1, train_Avg_acc; 0.8014121743616197, test_Avg_acc: 0.7999613102914624, total_acc: 0.8006867423265411,  Var_acc: 4.931848432675697e-07 (lambda, degree): (0.001,2)\n",
      "Jet_no: 1, train_Avg_acc; 0.8037754707247871, test_Avg_acc: 0.8015604849110136, total_acc: 0.8026679778179003,  Var_acc: 5.741626261074739e-07 (lambda, degree): (0.001,3)\n",
      "Jet_no: 1, train_Avg_acc; 0.8065901470208925, test_Avg_acc: 0.8043719370647407, total_acc: 0.8054810420428167,  Var_acc: 5.450771528871297e-07 (lambda, degree): (0.001,4)\n",
      "Jet_no: 1, train_Avg_acc; 0.8081699767861747, test_Avg_acc: 0.8066933195769925, total_acc: 0.8074316481815836,  Var_acc: 3.589010180140461e-07 (lambda, degree): (0.001,5)\n",
      "Jet_no: 1, train_Avg_acc; 0.8126837761155533, test_Avg_acc: 0.8106267732783079, total_acc: 0.8116552746969306,  Var_acc: 4.143068694307543e-07 (lambda, degree): (0.001,6)\n",
      "Jet_no: 1, train_Avg_acc; 0.8142055713180294, test_Avg_acc: 0.8118648439515088, total_acc: 0.8130352076347691,  Var_acc: 8.824811163552856e-07 (lambda, degree): (0.001,7)\n",
      "Jet_no: 1, train_Avg_acc; 0.8153404694351304, test_Avg_acc: 0.8129739489295847, total_acc: 0.8141572091823576,  Var_acc: 5.377797968469741e-07 (lambda, degree): (0.001,8)\n",
      "Jet_no: 1, train_Avg_acc; 0.8164753675522312, test_Avg_acc: 0.8136703636832603, total_acc: 0.8150728656177457,  Var_acc: 5.876970385923383e-07 (lambda, degree): (0.001,9)\n",
      "Jet_no: 1, train_Avg_acc; 0.8170395924684033, test_Avg_acc: 0.8147407789527985, total_acc: 0.8158901857106009,  Var_acc: 5.540169337912182e-07 (lambda, degree): (0.001,10)\n",
      "Jet_no: 1, train_Avg_acc; 0.8173136445705442, test_Avg_acc: 0.8147794686613361, total_acc: 0.8160465566159402,  Var_acc: 2.671123373367337e-07 (lambda, degree): (0.001,11)\n",
      "Jet_no: 1, train_Avg_acc; 0.817513541397988, test_Avg_acc: 0.8150116069125612, total_acc: 0.8162625741552747,  Var_acc: 3.643480473089918e-07 (lambda, degree): (0.001,12)\n",
      "Jet_no: 1, train_Avg_acc; 0.817133092597369, test_Avg_acc: 0.8150116069125612, total_acc: 0.8160723497549651,  Var_acc: 1.2815695680610235e-06 (lambda, degree): (0.001,13)\n",
      "Jet_no: 1, train_Avg_acc; 0.7994551199380965, test_Avg_acc: 0.7977817900438484, total_acc: 0.7986184549909725,  Var_acc: 0.0009246461543241373 (lambda, degree): (0.001,14)\n",
      "Jet_no: 1, train_Avg_acc; 0.7562548362135673, test_Avg_acc: 0.7527082795976271, total_acc: 0.7544815579055972,  Var_acc: 0.01439044505156599 (lambda, degree): (0.001,15)\n",
      "Jet_no: 1, train_Avg_acc; 0.785929842661852, test_Avg_acc: 0.7844983234459633, total_acc: 0.7852140830539076,  Var_acc: 3.160524402391663e-07 (lambda, degree): (0.01,1)\n",
      "Jet_no: 1, train_Avg_acc; 0.7986103946350271, test_Avg_acc: 0.7976012380706732, total_acc: 0.7981058163528502,  Var_acc: 5.22831651567893e-07 (lambda, degree): (0.01,2)\n",
      "Jet_no: 1, train_Avg_acc; 0.8007608976012381, test_Avg_acc: 0.799161722981687, total_acc: 0.7999613102914626,  Var_acc: 3.866351290046321e-07 (lambda, degree): (0.01,3)\n",
      "Jet_no: 1, train_Avg_acc; 0.802830797007996, test_Avg_acc: 0.801109104978076, total_acc: 0.801969950993036,  Var_acc: 2.1719509559129978e-07 (lambda, degree): (0.01,4)\n",
      "Jet_no: 1, train_Avg_acc; 0.80678359556358, test_Avg_acc: 0.8049909724013412, total_acc: 0.8058872839824607,  Var_acc: 4.267809823200894e-07 (lambda, degree): (0.01,5)\n",
      "Jet_no: 1, train_Avg_acc; 0.8106848078411144, test_Avg_acc: 0.8092210472014443, total_acc: 0.8099529275212793,  Var_acc: 4.4996204210610653e-07 (lambda, degree): (0.01,6)\n",
      "Jet_no: 1, train_Avg_acc; 0.8125032241423782, test_Avg_acc: 0.810600980139283, total_acc: 0.8115521021408305,  Var_acc: 5.642872867367343e-07 (lambda, degree): (0.01,7)\n",
      "Jet_no: 1, train_Avg_acc; 0.8134930358524632, test_Avg_acc: 0.8115940159917463, total_acc: 0.8125435259221048,  Var_acc: 3.6576178010313e-07 (lambda, degree): (0.01,8)\n",
      "Jet_no: 1, train_Avg_acc; 0.8145150889863295, test_Avg_acc: 0.8128191900954345, total_acc: 0.813667139540882,  Var_acc: 6.210029200068376e-07 (lambda, degree): (0.01,9)\n",
      "Jet_no: 1, train_Avg_acc; 0.8146472788238329, test_Avg_acc: 0.8128707763734846, total_acc: 0.8137590275986588,  Var_acc: 7.338312710907959e-07 (lambda, degree): (0.01,10)\n",
      "Jet_no: 1, train_Avg_acc; 0.8149148826412175, test_Avg_acc: 0.8130642249161723, total_acc: 0.8139895537786949,  Var_acc: 6.756187442739633e-07 (lambda, degree): (0.01,11)\n",
      "Jet_no: 1, train_Avg_acc; 0.8149148826412175, test_Avg_acc: 0.8132318803198348, total_acc: 0.8140733814805261,  Var_acc: 6.044123498640705e-07 (lambda, degree): (0.01,12)\n",
      "Jet_no: 1, train_Avg_acc; 0.8148375032241424, test_Avg_acc: 0.8132318803198348, total_acc: 0.8140346917719886,  Var_acc: 8.511503028149024e-07 (lambda, degree): (0.01,13)\n",
      "Jet_no: 1, train_Avg_acc; 0.7573413721949961, test_Avg_acc: 0.7553133866391539, total_acc: 0.7563273794170751,  Var_acc: 0.00727743702335999 (lambda, degree): (0.01,14)\n",
      "Jet_no: 1, train_Avg_acc; 0.8141120711890638, test_Avg_acc: 0.8122130513283465, total_acc: 0.8131625612587052,  Var_acc: 8.48759431177789e-07 (lambda, degree): (0.01,15)\n",
      "Jet_no: 2, train_Avg_acc; 0.8326268265784396, test_Avg_acc: 0.8283016266887234, total_acc: 0.8304642266335815,  Var_acc: 9.28582684365917e-07 (lambda, degree): (0.0001,1)\n",
      "Jet_no: 2, train_Avg_acc; 0.8334608491866555, test_Avg_acc: 0.8294044665012408, total_acc: 0.8314326578439482,  Var_acc: 5.140105429600469e-07 (lambda, degree): (0.0001,2)\n",
      "Jet_no: 2, train_Avg_acc; 0.8383443617314585, test_Avg_acc: 0.8335125448028673, total_acc: 0.8359284532671629,  Var_acc: 5.506882524678769e-07 (lambda, degree): (0.0001,3)\n",
      "Jet_no: 2, train_Avg_acc; 0.843272677143645, test_Avg_acc: 0.8392886683209264, total_acc: 0.8412806727322857,  Var_acc: 6.847851891075931e-07 (lambda, degree): (0.0001,4)\n",
      "Jet_no: 2, train_Avg_acc; 0.8436724565756822, test_Avg_acc: 0.8388888888888889, total_acc: 0.8412806727322856,  Var_acc: 7.776197025509802e-07 (lambda, degree): (0.0001,5)\n",
      "Jet_no: 2, train_Avg_acc; 0.8486938240970499, test_Avg_acc: 0.8441273779983458, total_acc: 0.8464106010476978,  Var_acc: 2.3049469906377178e-07 (lambda, degree): (0.0001,6)\n"
     ]
    },
    {
     "name": "stdout",
     "output_type": "stream",
     "text": [
      "Jet_no: 2, train_Avg_acc; 0.8507340777502067, test_Avg_acc: 0.8457816377171217, total_acc: 0.8482578577336641,  Var_acc: 5.011590916364501e-07 (lambda, degree): (0.0001,7)\n",
      "Jet_no: 2, train_Avg_acc; 0.8515336366142817, test_Avg_acc: 0.8468706920319823, total_acc: 0.849202164323132,  Var_acc: 3.653993054724212e-07 (lambda, degree): (0.0001,8)\n",
      "Jet_no: 2, train_Avg_acc; 0.8524159084642957, test_Avg_acc: 0.8479873173421562, total_acc: 0.8502016129032259,  Var_acc: 3.343040193676872e-07 (lambda, degree): (0.0001,9)\n",
      "Jet_no: 2, train_Avg_acc; 0.8528604907637167, test_Avg_acc: 0.8483733112765371, total_acc: 0.850616901020127,  Var_acc: 5.661289980508762e-07 (lambda, degree): (0.0001,10)\n",
      "Jet_no: 2, train_Avg_acc; 0.8525916735594155, test_Avg_acc: 0.8483181692859112, total_acc: 0.8504549214226633,  Var_acc: 3.29790570658785e-07 (lambda, degree): (0.0001,11)\n",
      "Jet_no: 2, train_Avg_acc; 0.8516163496002207, test_Avg_acc: 0.8465811965811966, total_acc: 0.8490987730907087,  Var_acc: 9.870793551321133e-06 (lambda, degree): (0.0001,12)\n",
      "Jet_no: 2, train_Avg_acc; 0.8437275985663083, test_Avg_acc: 0.838861317893576, total_acc: 0.8412944582299422,  Var_acc: 0.0003260862645284583 (lambda, degree): (0.0001,13)\n",
      "Jet_no: 2, train_Avg_acc; 0.8371932726771437, test_Avg_acc: 0.832492417976289, total_acc: 0.8348428453267164,  Var_acc: 0.00045132467914225753 (lambda, degree): (0.0001,14)\n",
      "Jet_no: 2, train_Avg_acc; 0.8056417149159085, test_Avg_acc: 0.7994485800937414, total_acc: 0.802545147504825,  Var_acc: 0.0017351517657105454 (lambda, degree): (0.0001,15)\n",
      "Jet_no: 2, train_Avg_acc; 0.8303315412186378, test_Avg_acc: 0.8275847808105873, total_acc: 0.8289581610146126,  Var_acc: 9.60818210144497e-07 (lambda, degree): (0.001,1)\n",
      "Jet_no: 2, train_Avg_acc; 0.8317583402260823, test_Avg_acc: 0.8281499862145024, total_acc: 0.8299541632202924,  Var_acc: 8.648717925913683e-07 (lambda, degree): (0.001,2)\n",
      "Jet_no: 2, train_Avg_acc; 0.8365729252826026, test_Avg_acc: 0.8323683484973807, total_acc: 0.8344706368899917,  Var_acc: 3.105965361494945e-07 (lambda, degree): (0.001,3)\n",
      "Jet_no: 2, train_Avg_acc; 0.8397470361180039, test_Avg_acc: 0.8366004962779157, total_acc: 0.8381737661979598,  Var_acc: 4.7645389870371197e-07 (lambda, degree): (0.001,4)\n",
      "Jet_no: 2, train_Avg_acc; 0.8423490488006617, test_Avg_acc: 0.8379652605459057, total_acc: 0.8401571546732838,  Var_acc: 7.537934443668207e-07 (lambda, degree): (0.001,5)\n",
      "Jet_no: 2, train_Avg_acc; 0.8473979873173422, test_Avg_acc: 0.8432864626413012, total_acc: 0.8453422249793217,  Var_acc: 4.397524342026438e-07 (lambda, degree): (0.001,6)\n",
      "Jet_no: 2, train_Avg_acc; 0.8493968844775296, test_Avg_acc: 0.8453129307968018, total_acc: 0.8473549076371657,  Var_acc: 8.199511004415016e-07 (lambda, degree): (0.001,7)\n",
      "Jet_no: 2, train_Avg_acc; 0.8508340226082162, test_Avg_acc: 0.8463054866280671, total_acc: 0.8485697546181417,  Var_acc: 3.442811165135494e-07 (lambda, degree): (0.001,8)\n",
      "Jet_no: 2, train_Avg_acc; 0.8518644885580369, test_Avg_acc: 0.8478356768679349, total_acc: 0.8498500827129859,  Var_acc: 3.1244942561949015e-07 (lambda, degree): (0.001,9)\n",
      "Jet_no: 2, train_Avg_acc; 0.8520333609043286, test_Avg_acc: 0.8478908188585608, total_acc: 0.8499620898814446,  Var_acc: 1.7987280854486284e-07 (lambda, degree): (0.001,10)\n",
      "Jet_no: 2, train_Avg_acc; 0.8069478908188585, test_Avg_acc: 0.8012958367797077, total_acc: 0.8041218637992831,  Var_acc: 0.008204632272135075 (lambda, degree): (0.001,11)\n",
      "Jet_no: 2, train_Avg_acc; 0.8523056244830439, test_Avg_acc: 0.8481665288116901, total_acc: 0.850236076647367,  Var_acc: 5.867483321524495e-07 (lambda, degree): (0.001,12)\n",
      "Jet_no: 2, train_Avg_acc; 0.8177522746071133, test_Avg_acc: 0.8137027846705266, total_acc: 0.81572752963882,  Var_acc: 0.004908016461678177 (lambda, degree): (0.001,13)\n",
      "Jet_no: 2, train_Avg_acc; 0.8414219740832642, test_Avg_acc: 0.837055417700579, total_acc: 0.8392386958919216,  Var_acc: 0.00035534222526438215 (lambda, degree): (0.001,14)\n",
      "Jet_no: 2, train_Avg_acc; 0.832202922525503, test_Avg_acc: 0.829294182519989, total_acc: 0.830748552522746,  Var_acc: 0.0012463924954669767 (lambda, degree): (0.001,15)\n",
      "Jet_no: 2, train_Avg_acc; 0.8272160187482769, test_Avg_acc: 0.8254618141714916, total_acc: 0.8263389164598842,  Var_acc: 1.0148133096985128e-06 (lambda, degree): (0.01,1)\n",
      "Jet_no: 2, train_Avg_acc; 0.828225806451613, test_Avg_acc: 0.8262751585332231, total_acc: 0.8272504824924181,  Var_acc: 7.865990899823646e-07 (lambda, degree): (0.01,2)\n",
      "Jet_no: 2, train_Avg_acc; 0.8337710228839261, test_Avg_acc: 0.8311965811965812, total_acc: 0.8324838020402536,  Var_acc: 5.813559486950131e-07 (lambda, degree): (0.01,3)\n",
      "Jet_no: 2, train_Avg_acc; 0.834804935208161, test_Avg_acc: 0.8329886958919218, total_acc: 0.8338968155500415,  Var_acc: 9.007418323302399e-07 (lambda, degree): (0.01,4)\n",
      "Jet_no: 2, train_Avg_acc; 0.8403604907637167, test_Avg_acc: 0.8378549765646539, total_acc: 0.8391077336641852,  Var_acc: 4.0518891909003096e-07 (lambda, degree): (0.01,5)\n",
      "Jet_no: 2, train_Avg_acc; 0.8448200992555831, test_Avg_acc: 0.8417838433967466, total_acc: 0.8433019713261649,  Var_acc: 3.3691706862017707e-07 (lambda, degree): (0.01,6)\n",
      "Jet_no: 2, train_Avg_acc; 0.8464605734767024, test_Avg_acc: 0.8439619520264682, total_acc: 0.8452112627515853,  Var_acc: 4.698025006064106e-07 (lambda, degree): (0.01,7)\n",
      "Jet_no: 2, train_Avg_acc; 0.8484112213950924, test_Avg_acc: 0.844844223876482, total_acc: 0.8466277226357872,  Var_acc: 4.83057786814559e-07 (lambda, degree): (0.01,8)\n",
      "Jet_no: 2, train_Avg_acc; 0.8493589743589745, test_Avg_acc: 0.8459332781913428, total_acc: 0.8476461262751587,  Var_acc: 4.269960028518192e-07 (lambda, degree): (0.01,9)\n",
      "Jet_no: 2, train_Avg_acc; 0.8495623104494072, test_Avg_acc: 0.8461400606561897, total_acc: 0.8478511855527985,  Var_acc: 3.84997174866189e-07 (lambda, degree): (0.01,10)\n",
      "Jet_no: 2, train_Avg_acc; 0.8502653708298871, test_Avg_acc: 0.8465949820788531, total_acc: 0.84843017645437,  Var_acc: 3.243269222217581e-07 (lambda, degree): (0.01,11)\n",
      "Jet_no: 2, train_Avg_acc; 0.8502791563275434, test_Avg_acc: 0.8461676316515024, total_acc: 0.848223393989523,  Var_acc: 3.543769886255119e-07 (lambda, degree): (0.01,12)\n",
      "Jet_no: 2, train_Avg_acc; 0.8494037772263578, test_Avg_acc: 0.8459194926936862, total_acc: 0.847661634960022,  Var_acc: 2.2711673903008077e-06 (lambda, degree): (0.01,13)\n",
      "Jet_no: 2, train_Avg_acc; 0.8365108905431485, test_Avg_acc: 0.8320788530465949, total_acc: 0.8342948717948717,  Var_acc: 0.0006336562007487717 (lambda, degree): (0.01,14)\n",
      "Jet_no: 2, train_Avg_acc; 0.8383995037220844, test_Avg_acc: 0.8352081610146126, total_acc: 0.8368038323683484,  Var_acc: 0.0002977968707110358 (lambda, degree): (0.01,15)\n"
     ]
    }
   ],
   "source": [
    "# Grid Search \n",
    "\n",
    "resaults = []\n",
    "\n",
    "# Set k_fold_no\n",
    "k_fold = 5\n",
    "\n",
    "for index in range(3):\n",
    "    for lambda_, degree in test_para:  \n",
    "        #data processing\n",
    "        x_train = tx_train[dict_jets_train[index]]\n",
    "        y_train = y[dict_jets_train[index]]\n",
    "        x_test = tx_test[dict_jets_test[index]]\n",
    "\n",
    "        x_train, _ = process_data(x_train, x_test)\n",
    "        \n",
    "        # Build Poly matrix\n",
    "        x_train = build_polynomial_features(x_train, degree)\n",
    "        x_train = np.hstack((np.ones((x_train.shape[0], 1)), x_train))\n",
    "\n",
    "        # Split data in k-fold\n",
    "        k_indices = build_k_indices(y_train, k_fold, seed)\n",
    "        list_accuracy_train = []\n",
    "        list_accuracy_test = []\n",
    "\n",
    "        for k in range(k_fold):\n",
    "            a_train, a_test = cross_validation(y_train, x_train, k_indices, k, lambda_)\n",
    "            list_accuracy_train.append(a_train)\n",
    "            list_accuracy_test.append(a_test)\n",
    "\n",
    "        mean_acc= np.mean(list_accuracy_train)\n",
    "        var_acc = np.var(list_accuracy_train)\n",
    "        tmean_acc= np.mean(list_accuracy_test)\n",
    "        tvar_acc = np.var(list_accuracy_test)\n",
    "\n",
    "        total_acc = (mean_acc + tmean_acc) /2\n",
    "\n",
    "        resaults.append((index, total_acc , (lambda_, degree)))\n",
    "\n",
    "        print('Jet_no: {}, train_Avg_acc; {}, test_Avg_acc: {}, total_acc: {},  Var_acc: {} (lambda, degree): ({},{})'.format(index, mean_acc, \n",
    "                                                                                              tmean_acc,total_acc,var_acc,lambda_, degree, x_train.shape))\n",
    "\n",
    "        "
   ]
  },
  {
   "cell_type": "code",
   "execution_count": 16,
   "metadata": {
    "collapsed": true
   },
   "outputs": [],
   "source": [
    "def find_max(resault):\n",
    "    jet_no = list(set([x[0] for x in resault]))\n",
    "    for no in jet_no:\n",
    "        jet_dict = {x[1]: x[2] for x in resault if x[0] == no}\n",
    "\n",
    "        order = sorted(jet_dict.keys())\n",
    "\n",
    "        print(\"Jet_no:{}, Max_acc: {:.5f} at {}, 2nd_acc: {:.5f} at {}\".format(no, order[-1],jet_dict[order[-1]], order[-2],\n",
    "                                                                               jet_dict[order[-2]] ))\n",
    "        \n",
    "\n"
   ]
  },
  {
   "cell_type": "code",
   "execution_count": 17,
   "metadata": {},
   "outputs": [
    {
     "name": "stdout",
     "output_type": "stream",
     "text": [
      "Jet_no:0, Max_acc: 0.84895 at (0.0001, 10), 2nd_acc: 0.84858 at (0.001, 10)\n",
      "Jet_no:1, Max_acc: 0.81677 at (0.0001, 13), 2nd_acc: 0.81636 at (0.0001, 10)\n",
      "Jet_no:2, Max_acc: 0.85062 at (0.0001, 10), 2nd_acc: 0.85045 at (0.0001, 11)\n"
     ]
    }
   ],
   "source": [
    "find_max(resaults)"
   ]
  }
 ],
 "metadata": {
  "kernelspec": {
   "display_name": "Python 3",
   "language": "python",
   "name": "python3"
  },
  "language_info": {
   "codemirror_mode": {
    "name": "ipython",
    "version": 3
   },
   "file_extension": ".py",
   "mimetype": "text/x-python",
   "name": "python",
   "nbconvert_exporter": "python",
   "pygments_lexer": "ipython3",
   "version": "3.6.1"
  }
 },
 "nbformat": 4,
 "nbformat_minor": 2
}
