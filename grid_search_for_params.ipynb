{
 "cells": [
  {
   "cell_type": "code",
   "execution_count": 1,
   "metadata": {
    "collapsed": true
   },
   "outputs": [],
   "source": [
    "import numpy as np\n",
    "from proj1_helpers import *\n",
    "from tools import *\n",
    "from implementations import *\n",
    "\n",
    "%load_ext autoreload\n",
    "%autoreload 2\n",
    "seed = 10"
   ]
  },
  {
   "cell_type": "code",
   "execution_count": 3,
   "metadata": {
    "collapsed": true
   },
   "outputs": [],
   "source": [
    "# Generate Test parameters\n",
    "\n",
    "def gen_para(lambdas, degree):\n",
    "    test_para = []\n",
    "    for la in lambdas:\n",
    "        for d in range(1, degree+1):\n",
    "            test_para.append((la,d))\n",
    "    return test_para\n",
    "\n",
    "\n",
    "test_para = gen_para([0.0001, 0.001, 0.01], 15)"
   ]
  },
  {
   "cell_type": "code",
   "execution_count": 6,
   "metadata": {
    "collapsed": true
   },
   "outputs": [],
   "source": [
    "# Cross validation\n",
    "\n",
    "def cross_validation(y, x, k_indices, k, lambda_):\n",
    "    test_indice = k_indices[k]\n",
    "    train_indice = k_indices[~(np.arange(k_indices.shape[0]) == k)]\n",
    "    train_indice = train_indice.reshape(-1)\n",
    "\n",
    "    ty_test = y[test_indice]\n",
    "    ty_train = y[train_indice]\n",
    "    tx_test = x[test_indice]\n",
    "    tx_train = x[train_indice]\n",
    "    \n",
    "    ################# replace regression method here ##################\n",
    "    weight, loss_train = ridge_regression(ty_train, tx_train, lambda_)\n",
    "\n",
    "    y_train_pred = predict_labels(weight, tx_train)\n",
    "    y_test_pred = predict_labels(weight, tx_test)\n",
    "\n",
    "    accuracy_train = compute_accuracy(y_train_pred, ty_train)\n",
    "    accuracy_test = compute_accuracy(y_test_pred, ty_test)\n",
    "\n",
    "    return accuracy_train, accuracy_test"
   ]
  },
  {
   "cell_type": "code",
   "execution_count": null,
   "metadata": {
    "collapsed": true
   },
   "outputs": [],
   "source": [
    "# Display the best parameters \n",
    "def find_max(resault):\n",
    "    jet_no = list(set([x[0] for x in resault]))\n",
    "    for no in jet_no:\n",
    "        jet_dict = {x[1]: x[2] for x in resault if x[0] == no}\n",
    "\n",
    "        order = sorted(jet_dict.keys())\n",
    "\n",
    "        print(\"Jet_no:{}, Max_acc: {:.5f} at {}, 2nd_acc: {:.5f} at {}\".format(no, order[-1],jet_dict[order[-1]], order[-2],\n",
    "                                                                               jet_dict[order[-2]] ))"
   ]
  },
  {
   "cell_type": "code",
   "execution_count": null,
   "metadata": {},
   "outputs": [],
   "source": [
    "# Load data\n",
    "DATA_TRAIN_PATH = 'data/train.csv'\n",
    "DATA_TEST_PATH = 'data/test.csv'\n",
    "\n",
    "y, tx_train, ids_train = load_csv_data(DATA_TRAIN_PATH)\n",
    "_, tx_test, ids_test = load_csv_data(DATA_TEST_PATH)\n",
    "\n",
    "# Split data by jet_no\n",
    "dict_jets_train = group_features_by_jet(tx_train)\n",
    "dict_jets_test = group_features_by_jet(tx_test)\n",
    "\n",
    "\n",
    "# Grid Search \n",
    "\n",
    "# Set k_fold_no\n",
    "k_fold = 5\n",
    "resaults = []\n",
    "\n",
    "for index in range(3):\n",
    "    for lambda_, degree in test_para:  \n",
    "        #data processing\n",
    "        x_train = tx_train[dict_jets_train[index]]\n",
    "        y_train = y[dict_jets_train[index]]\n",
    "        x_test = tx_test[dict_jets_test[index]]\n",
    "\n",
    "        x_train, _ = process_data(x_train, x_test)\n",
    "        \n",
    "        # Build Poly matrix\n",
    "        x_train = build_polynomial_features(x_train, degree)\n",
    "        x_train = np.hstack((np.ones((x_train.shape[0], 1)), x_train))\n",
    "\n",
    "        # Split data in k-fold\n",
    "        k_indices = build_k_indices(y_train, k_fold, seed)\n",
    "        list_accuracy_train = []\n",
    "        list_accuracy_test = []\n",
    "\n",
    "        for k in range(k_fold):\n",
    "            a_train, a_test = cross_validation(y_train, x_train, k_indices, k, lambda_)\n",
    "            list_accuracy_train.append(a_train)\n",
    "            list_accuracy_test.append(a_test)a\n",
    "\n",
    "        mean_acc= np.mean(list_accuracy_train)\n",
    "        var_acc = np.var(list_accuracy_train)\n",
    "        tmean_acc= np.mean(list_accuracy_test)\n",
    "        tvar_acc = np.var(list_accuracy_test)\n",
    "\n",
    "        total_acc = (mean_acc + tmean_acc) /2\n",
    "\n",
    "        resaults.append((index, total_acc , (lambda_, degree)))\n",
    "        \n",
    "find_max(resaults)"
   ]
  }
 ],
 "metadata": {
  "kernelspec": {
   "display_name": "Python 3",
   "language": "python",
   "name": "python3"
  },
  "language_info": {
   "codemirror_mode": {
    "name": "ipython",
    "version": 3
   },
   "file_extension": ".py",
   "mimetype": "text/x-python",
   "name": "python",
   "nbconvert_exporter": "python",
   "pygments_lexer": "ipython3",
   "version": "3.6.1"
  }
 },
 "nbformat": 4,
 "nbformat_minor": 1
}
